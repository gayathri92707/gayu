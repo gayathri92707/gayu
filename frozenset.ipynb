{
 "cells": [
  {
   "cell_type": "code",
   "execution_count": 1,
   "metadata": {},
   "outputs": [
    {
     "name": "stdout",
     "output_type": "stream",
     "text": [
      "{1, 2, 3, 4}\n"
     ]
    }
   ],
   "source": [
    "s = {1,2,3}\n",
    "s.add(4)\n",
    "print(s)"
   ]
  },
  {
   "cell_type": "code",
   "execution_count": 4,
   "metadata": {},
   "outputs": [
    {
     "name": "stdout",
     "output_type": "stream",
     "text": [
      "frozenset({1, 2, 3})\n",
      "frozenset()\n"
     ]
    }
   ],
   "source": [
    "t1 = (1,2,3)\n",
    "t2 = (3,4,5)\n",
    "fset = frozenset(t1)\n",
    "type(fset)\n",
    "print(fset)\n",
    "print(frozenset())\n",
    "#fset.intersection(t2)\n",
    "#fset.add(4)"
   ]
  },
  {
   "cell_type": "code",
   "execution_count": 3,
   "metadata": {},
   "outputs": [
    {
     "name": "stdout",
     "output_type": "stream",
     "text": [
      "frozenset({'Name', 'Age', 'Address'})\n",
      "{'Name': 'Gayathri', 'Age': 26, 'Address': 'abc', 'Sex': 'Female'}\n"
     ]
    }
   ],
   "source": [
    "\"\"\"Frozen set is just an immutable version of a Python set object. \n",
    "While elements of a set can be modified at any time, elements of frozen set remains the same after creation.\n",
    "\n",
    "Due to this, frozen sets can be used as key in Dictionary or as element of another set. \n",
    "But like sets, it is not ordered (the elements can be set at any index).\"\"\"\n",
    "\n",
    "dict = {'Name':'Gayathri','Age':26,'Address':'abc'}\n",
    "#print(dict)\n",
    "d = frozenset(dict)\n",
    "print(d)\n",
    "type(d)\n",
    "\n",
    "dict.setdefault('Sex','Female')\n",
    "print(dict)\n",
    "\n",
    "dict2 = {d:'Gayathri'}\n",
    "#print(dict2)"
   ]
  }
 ],
 "metadata": {
  "kernelspec": {
   "display_name": "Python 3",
   "language": "python",
   "name": "python3"
  },
  "language_info": {
   "codemirror_mode": {
    "name": "ipython",
    "version": 3
   },
   "file_extension": ".py",
   "mimetype": "text/x-python",
   "name": "python",
   "nbconvert_exporter": "python",
   "pygments_lexer": "ipython3",
   "version": "3.7.1"
  }
 },
 "nbformat": 4,
 "nbformat_minor": 2
}
